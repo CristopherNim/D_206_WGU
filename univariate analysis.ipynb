{
 "cells": [
  {
   "cell_type": "code",
   "execution_count": 100,
   "id": "dental-timer",
   "metadata": {},
   "outputs": [],
   "source": [
    "import pandas as pd\n",
    "import numpy as np\n",
    "import matplotlib.pyplot as plt\n",
    "import seaborn as sns\n",
    "%matplotlib inline \n",
    "from scipy.stats import trim_mean\n",
    "from statsmodels import robust\n",
    "import wquantiles\n",
    "from sklearn.utils import resample\n",
    "#from bioinfokit.analys import stat, get_data "
   ]
  },
  {
   "cell_type": "code",
   "execution_count": 101,
   "id": "circular-defense",
   "metadata": {},
   "outputs": [],
   "source": [
    "df = pd.read_csv('data/churn_raw_data.csv', index_col=[0])"
   ]
  },
  {
   "cell_type": "code",
   "execution_count": 102,
   "id": "flush-update",
   "metadata": {},
   "outputs": [
    {
     "data": {
      "text/html": [
       "<div>\n",
       "<style scoped>\n",
       "    .dataframe tbody tr th:only-of-type {\n",
       "        vertical-align: middle;\n",
       "    }\n",
       "\n",
       "    .dataframe tbody tr th {\n",
       "        vertical-align: top;\n",
       "    }\n",
       "\n",
       "    .dataframe thead th {\n",
       "        text-align: right;\n",
       "    }\n",
       "</style>\n",
       "<table border=\"1\" class=\"dataframe\">\n",
       "  <thead>\n",
       "    <tr style=\"text-align: right;\">\n",
       "      <th></th>\n",
       "      <th>CaseOrder</th>\n",
       "      <th>Customer_id</th>\n",
       "      <th>Interaction</th>\n",
       "      <th>City</th>\n",
       "      <th>State</th>\n",
       "      <th>County</th>\n",
       "      <th>Zip</th>\n",
       "      <th>Lat</th>\n",
       "      <th>Lng</th>\n",
       "      <th>Population</th>\n",
       "      <th>...</th>\n",
       "      <th>MonthlyCharge</th>\n",
       "      <th>Bandwidth_GB_Year</th>\n",
       "      <th>item1</th>\n",
       "      <th>item2</th>\n",
       "      <th>item3</th>\n",
       "      <th>item4</th>\n",
       "      <th>item5</th>\n",
       "      <th>item6</th>\n",
       "      <th>item7</th>\n",
       "      <th>item8</th>\n",
       "    </tr>\n",
       "  </thead>\n",
       "  <tbody>\n",
       "    <tr>\n",
       "      <th>1</th>\n",
       "      <td>1</td>\n",
       "      <td>K409198</td>\n",
       "      <td>aa90260b-4141-4a24-8e36-b04ce1f4f77b</td>\n",
       "      <td>Point Baker</td>\n",
       "      <td>AK</td>\n",
       "      <td>Prince of Wales-Hyder</td>\n",
       "      <td>99927</td>\n",
       "      <td>56.25100</td>\n",
       "      <td>-133.37571</td>\n",
       "      <td>38</td>\n",
       "      <td>...</td>\n",
       "      <td>171.449762</td>\n",
       "      <td>904.536110</td>\n",
       "      <td>5</td>\n",
       "      <td>5</td>\n",
       "      <td>5</td>\n",
       "      <td>3</td>\n",
       "      <td>4</td>\n",
       "      <td>4</td>\n",
       "      <td>3</td>\n",
       "      <td>4</td>\n",
       "    </tr>\n",
       "    <tr>\n",
       "      <th>2</th>\n",
       "      <td>2</td>\n",
       "      <td>S120509</td>\n",
       "      <td>fb76459f-c047-4a9d-8af9-e0f7d4ac2524</td>\n",
       "      <td>West Branch</td>\n",
       "      <td>MI</td>\n",
       "      <td>Ogemaw</td>\n",
       "      <td>48661</td>\n",
       "      <td>44.32893</td>\n",
       "      <td>-84.24080</td>\n",
       "      <td>10446</td>\n",
       "      <td>...</td>\n",
       "      <td>242.948015</td>\n",
       "      <td>800.982766</td>\n",
       "      <td>3</td>\n",
       "      <td>4</td>\n",
       "      <td>3</td>\n",
       "      <td>3</td>\n",
       "      <td>4</td>\n",
       "      <td>3</td>\n",
       "      <td>4</td>\n",
       "      <td>4</td>\n",
       "    </tr>\n",
       "    <tr>\n",
       "      <th>3</th>\n",
       "      <td>3</td>\n",
       "      <td>K191035</td>\n",
       "      <td>344d114c-3736-4be5-98f7-c72c281e2d35</td>\n",
       "      <td>Yamhill</td>\n",
       "      <td>OR</td>\n",
       "      <td>Yamhill</td>\n",
       "      <td>97148</td>\n",
       "      <td>45.35589</td>\n",
       "      <td>-123.24657</td>\n",
       "      <td>3735</td>\n",
       "      <td>...</td>\n",
       "      <td>159.440398</td>\n",
       "      <td>2054.706961</td>\n",
       "      <td>4</td>\n",
       "      <td>4</td>\n",
       "      <td>2</td>\n",
       "      <td>4</td>\n",
       "      <td>4</td>\n",
       "      <td>3</td>\n",
       "      <td>3</td>\n",
       "      <td>3</td>\n",
       "    </tr>\n",
       "    <tr>\n",
       "      <th>4</th>\n",
       "      <td>4</td>\n",
       "      <td>D90850</td>\n",
       "      <td>abfa2b40-2d43-4994-b15a-989b8c79e311</td>\n",
       "      <td>Del Mar</td>\n",
       "      <td>CA</td>\n",
       "      <td>San Diego</td>\n",
       "      <td>92014</td>\n",
       "      <td>32.96687</td>\n",
       "      <td>-117.24798</td>\n",
       "      <td>13863</td>\n",
       "      <td>...</td>\n",
       "      <td>120.249493</td>\n",
       "      <td>2164.579412</td>\n",
       "      <td>4</td>\n",
       "      <td>4</td>\n",
       "      <td>4</td>\n",
       "      <td>2</td>\n",
       "      <td>5</td>\n",
       "      <td>4</td>\n",
       "      <td>3</td>\n",
       "      <td>3</td>\n",
       "    </tr>\n",
       "    <tr>\n",
       "      <th>5</th>\n",
       "      <td>5</td>\n",
       "      <td>K662701</td>\n",
       "      <td>68a861fd-0d20-4e51-a587-8a90407ee574</td>\n",
       "      <td>Needville</td>\n",
       "      <td>TX</td>\n",
       "      <td>Fort Bend</td>\n",
       "      <td>77461</td>\n",
       "      <td>29.38012</td>\n",
       "      <td>-95.80673</td>\n",
       "      <td>11352</td>\n",
       "      <td>...</td>\n",
       "      <td>150.761216</td>\n",
       "      <td>271.493436</td>\n",
       "      <td>4</td>\n",
       "      <td>4</td>\n",
       "      <td>4</td>\n",
       "      <td>3</td>\n",
       "      <td>4</td>\n",
       "      <td>4</td>\n",
       "      <td>4</td>\n",
       "      <td>5</td>\n",
       "    </tr>\n",
       "    <tr>\n",
       "      <th>...</th>\n",
       "      <td>...</td>\n",
       "      <td>...</td>\n",
       "      <td>...</td>\n",
       "      <td>...</td>\n",
       "      <td>...</td>\n",
       "      <td>...</td>\n",
       "      <td>...</td>\n",
       "      <td>...</td>\n",
       "      <td>...</td>\n",
       "      <td>...</td>\n",
       "      <td>...</td>\n",
       "      <td>...</td>\n",
       "      <td>...</td>\n",
       "      <td>...</td>\n",
       "      <td>...</td>\n",
       "      <td>...</td>\n",
       "      <td>...</td>\n",
       "      <td>...</td>\n",
       "      <td>...</td>\n",
       "      <td>...</td>\n",
       "      <td>...</td>\n",
       "    </tr>\n",
       "    <tr>\n",
       "      <th>9996</th>\n",
       "      <td>9996</td>\n",
       "      <td>M324793</td>\n",
       "      <td>45deb5a2-ae04-4518-bf0b-c82db8dbe4a4</td>\n",
       "      <td>Mount Holly</td>\n",
       "      <td>VT</td>\n",
       "      <td>Rutland</td>\n",
       "      <td>5758</td>\n",
       "      <td>43.43391</td>\n",
       "      <td>-72.78734</td>\n",
       "      <td>640</td>\n",
       "      <td>...</td>\n",
       "      <td>159.828800</td>\n",
       "      <td>6511.253000</td>\n",
       "      <td>3</td>\n",
       "      <td>2</td>\n",
       "      <td>3</td>\n",
       "      <td>3</td>\n",
       "      <td>4</td>\n",
       "      <td>3</td>\n",
       "      <td>2</td>\n",
       "      <td>3</td>\n",
       "    </tr>\n",
       "    <tr>\n",
       "      <th>9997</th>\n",
       "      <td>9997</td>\n",
       "      <td>D861732</td>\n",
       "      <td>6e96b921-0c09-4993-bbda-a1ac6411061a</td>\n",
       "      <td>Clarksville</td>\n",
       "      <td>TN</td>\n",
       "      <td>Montgomery</td>\n",
       "      <td>37042</td>\n",
       "      <td>36.56907</td>\n",
       "      <td>-87.41694</td>\n",
       "      <td>77168</td>\n",
       "      <td>...</td>\n",
       "      <td>208.856400</td>\n",
       "      <td>5695.952000</td>\n",
       "      <td>4</td>\n",
       "      <td>5</td>\n",
       "      <td>5</td>\n",
       "      <td>4</td>\n",
       "      <td>4</td>\n",
       "      <td>5</td>\n",
       "      <td>2</td>\n",
       "      <td>5</td>\n",
       "    </tr>\n",
       "    <tr>\n",
       "      <th>9998</th>\n",
       "      <td>9998</td>\n",
       "      <td>I243405</td>\n",
       "      <td>e8307ddf-9a01-4fff-bc59-4742e03fd24f</td>\n",
       "      <td>Mobeetie</td>\n",
       "      <td>TX</td>\n",
       "      <td>Wheeler</td>\n",
       "      <td>79061</td>\n",
       "      <td>35.52039</td>\n",
       "      <td>-100.44180</td>\n",
       "      <td>406</td>\n",
       "      <td>...</td>\n",
       "      <td>168.220900</td>\n",
       "      <td>4159.306000</td>\n",
       "      <td>4</td>\n",
       "      <td>4</td>\n",
       "      <td>4</td>\n",
       "      <td>4</td>\n",
       "      <td>4</td>\n",
       "      <td>4</td>\n",
       "      <td>4</td>\n",
       "      <td>5</td>\n",
       "    </tr>\n",
       "    <tr>\n",
       "      <th>9999</th>\n",
       "      <td>9999</td>\n",
       "      <td>I641617</td>\n",
       "      <td>3775ccfc-0052-4107-81ae-9657f81ecdf3</td>\n",
       "      <td>Carrollton</td>\n",
       "      <td>GA</td>\n",
       "      <td>Carroll</td>\n",
       "      <td>30117</td>\n",
       "      <td>33.58016</td>\n",
       "      <td>-85.13241</td>\n",
       "      <td>35575</td>\n",
       "      <td>...</td>\n",
       "      <td>252.628600</td>\n",
       "      <td>6468.457000</td>\n",
       "      <td>4</td>\n",
       "      <td>4</td>\n",
       "      <td>6</td>\n",
       "      <td>4</td>\n",
       "      <td>3</td>\n",
       "      <td>3</td>\n",
       "      <td>5</td>\n",
       "      <td>4</td>\n",
       "    </tr>\n",
       "    <tr>\n",
       "      <th>10000</th>\n",
       "      <td>10000</td>\n",
       "      <td>T38070</td>\n",
       "      <td>9de5fb6e-bd33-4995-aec8-f01d0172a499</td>\n",
       "      <td>Clarkesville</td>\n",
       "      <td>GA</td>\n",
       "      <td>Habersham</td>\n",
       "      <td>30523</td>\n",
       "      <td>34.70783</td>\n",
       "      <td>-83.53648</td>\n",
       "      <td>12230</td>\n",
       "      <td>...</td>\n",
       "      <td>218.371000</td>\n",
       "      <td>5857.586000</td>\n",
       "      <td>2</td>\n",
       "      <td>2</td>\n",
       "      <td>3</td>\n",
       "      <td>3</td>\n",
       "      <td>3</td>\n",
       "      <td>3</td>\n",
       "      <td>4</td>\n",
       "      <td>1</td>\n",
       "    </tr>\n",
       "  </tbody>\n",
       "</table>\n",
       "<p>10000 rows × 51 columns</p>\n",
       "</div>"
      ],
      "text/plain": [
       "       CaseOrder Customer_id                           Interaction  \\\n",
       "1              1     K409198  aa90260b-4141-4a24-8e36-b04ce1f4f77b   \n",
       "2              2     S120509  fb76459f-c047-4a9d-8af9-e0f7d4ac2524   \n",
       "3              3     K191035  344d114c-3736-4be5-98f7-c72c281e2d35   \n",
       "4              4      D90850  abfa2b40-2d43-4994-b15a-989b8c79e311   \n",
       "5              5     K662701  68a861fd-0d20-4e51-a587-8a90407ee574   \n",
       "...          ...         ...                                   ...   \n",
       "9996        9996     M324793  45deb5a2-ae04-4518-bf0b-c82db8dbe4a4   \n",
       "9997        9997     D861732  6e96b921-0c09-4993-bbda-a1ac6411061a   \n",
       "9998        9998     I243405  e8307ddf-9a01-4fff-bc59-4742e03fd24f   \n",
       "9999        9999     I641617  3775ccfc-0052-4107-81ae-9657f81ecdf3   \n",
       "10000      10000      T38070  9de5fb6e-bd33-4995-aec8-f01d0172a499   \n",
       "\n",
       "               City State                 County    Zip       Lat        Lng  \\\n",
       "1       Point Baker    AK  Prince of Wales-Hyder  99927  56.25100 -133.37571   \n",
       "2       West Branch    MI                 Ogemaw  48661  44.32893  -84.24080   \n",
       "3           Yamhill    OR                Yamhill  97148  45.35589 -123.24657   \n",
       "4           Del Mar    CA              San Diego  92014  32.96687 -117.24798   \n",
       "5         Needville    TX              Fort Bend  77461  29.38012  -95.80673   \n",
       "...             ...   ...                    ...    ...       ...        ...   \n",
       "9996    Mount Holly    VT                Rutland   5758  43.43391  -72.78734   \n",
       "9997    Clarksville    TN             Montgomery  37042  36.56907  -87.41694   \n",
       "9998       Mobeetie    TX                Wheeler  79061  35.52039 -100.44180   \n",
       "9999     Carrollton    GA                Carroll  30117  33.58016  -85.13241   \n",
       "10000  Clarkesville    GA              Habersham  30523  34.70783  -83.53648   \n",
       "\n",
       "       Population  ... MonthlyCharge Bandwidth_GB_Year item1  item2  item3  \\\n",
       "1              38  ...    171.449762        904.536110     5      5      5   \n",
       "2           10446  ...    242.948015        800.982766     3      4      3   \n",
       "3            3735  ...    159.440398       2054.706961     4      4      2   \n",
       "4           13863  ...    120.249493       2164.579412     4      4      4   \n",
       "5           11352  ...    150.761216        271.493436     4      4      4   \n",
       "...           ...  ...           ...               ...   ...    ...    ...   \n",
       "9996          640  ...    159.828800       6511.253000     3      2      3   \n",
       "9997        77168  ...    208.856400       5695.952000     4      5      5   \n",
       "9998          406  ...    168.220900       4159.306000     4      4      4   \n",
       "9999        35575  ...    252.628600       6468.457000     4      4      6   \n",
       "10000       12230  ...    218.371000       5857.586000     2      2      3   \n",
       "\n",
       "      item4 item5  item6 item7 item8  \n",
       "1         3     4      4     3     4  \n",
       "2         3     4      3     4     4  \n",
       "3         4     4      3     3     3  \n",
       "4         2     5      4     3     3  \n",
       "5         3     4      4     4     5  \n",
       "...     ...   ...    ...   ...   ...  \n",
       "9996      3     4      3     2     3  \n",
       "9997      4     4      5     2     5  \n",
       "9998      4     4      4     4     5  \n",
       "9999      4     3      3     5     4  \n",
       "10000     3     3      3     4     1  \n",
       "\n",
       "[10000 rows x 51 columns]"
      ]
     },
     "execution_count": 102,
     "metadata": {},
     "output_type": "execute_result"
    }
   ],
   "source": [
    "df"
   ]
  },
  {
   "cell_type": "code",
   "execution_count": 4,
   "id": "amber-aruba",
   "metadata": {},
   "outputs": [
    {
     "data": {
      "text/html": [
       "<div>\n",
       "<style scoped>\n",
       "    .dataframe tbody tr th:only-of-type {\n",
       "        vertical-align: middle;\n",
       "    }\n",
       "\n",
       "    .dataframe tbody tr th {\n",
       "        vertical-align: top;\n",
       "    }\n",
       "\n",
       "    .dataframe thead th {\n",
       "        text-align: right;\n",
       "    }\n",
       "</style>\n",
       "<table border=\"1\" class=\"dataframe\">\n",
       "  <thead>\n",
       "    <tr style=\"text-align: right;\">\n",
       "      <th></th>\n",
       "      <th>1</th>\n",
       "      <th>2</th>\n",
       "      <th>3</th>\n",
       "      <th>4</th>\n",
       "      <th>5</th>\n",
       "    </tr>\n",
       "  </thead>\n",
       "  <tbody>\n",
       "    <tr>\n",
       "      <th>CaseOrder</th>\n",
       "      <td>1</td>\n",
       "      <td>2</td>\n",
       "      <td>3</td>\n",
       "      <td>4</td>\n",
       "      <td>5</td>\n",
       "    </tr>\n",
       "    <tr>\n",
       "      <th>Customer_id</th>\n",
       "      <td>K409198</td>\n",
       "      <td>S120509</td>\n",
       "      <td>K191035</td>\n",
       "      <td>D90850</td>\n",
       "      <td>K662701</td>\n",
       "    </tr>\n",
       "    <tr>\n",
       "      <th>Interaction</th>\n",
       "      <td>aa90260b-4141-4a24-8e36-b04ce1f4f77b</td>\n",
       "      <td>fb76459f-c047-4a9d-8af9-e0f7d4ac2524</td>\n",
       "      <td>344d114c-3736-4be5-98f7-c72c281e2d35</td>\n",
       "      <td>abfa2b40-2d43-4994-b15a-989b8c79e311</td>\n",
       "      <td>68a861fd-0d20-4e51-a587-8a90407ee574</td>\n",
       "    </tr>\n",
       "    <tr>\n",
       "      <th>City</th>\n",
       "      <td>Point Baker</td>\n",
       "      <td>West Branch</td>\n",
       "      <td>Yamhill</td>\n",
       "      <td>Del Mar</td>\n",
       "      <td>Needville</td>\n",
       "    </tr>\n",
       "    <tr>\n",
       "      <th>State</th>\n",
       "      <td>AK</td>\n",
       "      <td>MI</td>\n",
       "      <td>OR</td>\n",
       "      <td>CA</td>\n",
       "      <td>TX</td>\n",
       "    </tr>\n",
       "    <tr>\n",
       "      <th>County</th>\n",
       "      <td>Prince of Wales-Hyder</td>\n",
       "      <td>Ogemaw</td>\n",
       "      <td>Yamhill</td>\n",
       "      <td>San Diego</td>\n",
       "      <td>Fort Bend</td>\n",
       "    </tr>\n",
       "    <tr>\n",
       "      <th>Zip</th>\n",
       "      <td>99927</td>\n",
       "      <td>48661</td>\n",
       "      <td>97148</td>\n",
       "      <td>92014</td>\n",
       "      <td>77461</td>\n",
       "    </tr>\n",
       "    <tr>\n",
       "      <th>Lat</th>\n",
       "      <td>56.251</td>\n",
       "      <td>44.32893</td>\n",
       "      <td>45.35589</td>\n",
       "      <td>32.96687</td>\n",
       "      <td>29.38012</td>\n",
       "    </tr>\n",
       "    <tr>\n",
       "      <th>Lng</th>\n",
       "      <td>-133.37571</td>\n",
       "      <td>-84.2408</td>\n",
       "      <td>-123.24657</td>\n",
       "      <td>-117.24798</td>\n",
       "      <td>-95.80673</td>\n",
       "    </tr>\n",
       "    <tr>\n",
       "      <th>Population</th>\n",
       "      <td>38</td>\n",
       "      <td>10446</td>\n",
       "      <td>3735</td>\n",
       "      <td>13863</td>\n",
       "      <td>11352</td>\n",
       "    </tr>\n",
       "    <tr>\n",
       "      <th>Area</th>\n",
       "      <td>Urban</td>\n",
       "      <td>Urban</td>\n",
       "      <td>Urban</td>\n",
       "      <td>Suburban</td>\n",
       "      <td>Suburban</td>\n",
       "    </tr>\n",
       "    <tr>\n",
       "      <th>Timezone</th>\n",
       "      <td>America/Sitka</td>\n",
       "      <td>America/Detroit</td>\n",
       "      <td>America/Los_Angeles</td>\n",
       "      <td>America/Los_Angeles</td>\n",
       "      <td>America/Chicago</td>\n",
       "    </tr>\n",
       "    <tr>\n",
       "      <th>Job</th>\n",
       "      <td>Environmental health practitioner</td>\n",
       "      <td>Programmer, multimedia</td>\n",
       "      <td>Chief Financial Officer</td>\n",
       "      <td>Solicitor</td>\n",
       "      <td>Medical illustrator</td>\n",
       "    </tr>\n",
       "    <tr>\n",
       "      <th>Children</th>\n",
       "      <td>NaN</td>\n",
       "      <td>1.0</td>\n",
       "      <td>4.0</td>\n",
       "      <td>1.0</td>\n",
       "      <td>0.0</td>\n",
       "    </tr>\n",
       "    <tr>\n",
       "      <th>Age</th>\n",
       "      <td>68.0</td>\n",
       "      <td>27.0</td>\n",
       "      <td>50.0</td>\n",
       "      <td>48.0</td>\n",
       "      <td>83.0</td>\n",
       "    </tr>\n",
       "    <tr>\n",
       "      <th>Education</th>\n",
       "      <td>Master's Degree</td>\n",
       "      <td>Regular High School Diploma</td>\n",
       "      <td>Regular High School Diploma</td>\n",
       "      <td>Doctorate Degree</td>\n",
       "      <td>Master's Degree</td>\n",
       "    </tr>\n",
       "    <tr>\n",
       "      <th>Employment</th>\n",
       "      <td>Part Time</td>\n",
       "      <td>Retired</td>\n",
       "      <td>Student</td>\n",
       "      <td>Retired</td>\n",
       "      <td>Student</td>\n",
       "    </tr>\n",
       "    <tr>\n",
       "      <th>Income</th>\n",
       "      <td>28561.99</td>\n",
       "      <td>21704.77</td>\n",
       "      <td>NaN</td>\n",
       "      <td>18925.23</td>\n",
       "      <td>40074.19</td>\n",
       "    </tr>\n",
       "    <tr>\n",
       "      <th>Marital</th>\n",
       "      <td>Widowed</td>\n",
       "      <td>Married</td>\n",
       "      <td>Widowed</td>\n",
       "      <td>Married</td>\n",
       "      <td>Separated</td>\n",
       "    </tr>\n",
       "    <tr>\n",
       "      <th>Gender</th>\n",
       "      <td>Male</td>\n",
       "      <td>Female</td>\n",
       "      <td>Female</td>\n",
       "      <td>Male</td>\n",
       "      <td>Male</td>\n",
       "    </tr>\n",
       "    <tr>\n",
       "      <th>Churn</th>\n",
       "      <td>No</td>\n",
       "      <td>Yes</td>\n",
       "      <td>No</td>\n",
       "      <td>No</td>\n",
       "      <td>Yes</td>\n",
       "    </tr>\n",
       "    <tr>\n",
       "      <th>Outage_sec_perweek</th>\n",
       "      <td>6.972566</td>\n",
       "      <td>12.014541</td>\n",
       "      <td>10.245616</td>\n",
       "      <td>15.206193</td>\n",
       "      <td>8.960316</td>\n",
       "    </tr>\n",
       "    <tr>\n",
       "      <th>Email</th>\n",
       "      <td>10</td>\n",
       "      <td>12</td>\n",
       "      <td>9</td>\n",
       "      <td>15</td>\n",
       "      <td>16</td>\n",
       "    </tr>\n",
       "    <tr>\n",
       "      <th>Contacts</th>\n",
       "      <td>0</td>\n",
       "      <td>0</td>\n",
       "      <td>0</td>\n",
       "      <td>2</td>\n",
       "      <td>2</td>\n",
       "    </tr>\n",
       "    <tr>\n",
       "      <th>Yearly_equip_failure</th>\n",
       "      <td>1</td>\n",
       "      <td>1</td>\n",
       "      <td>1</td>\n",
       "      <td>0</td>\n",
       "      <td>1</td>\n",
       "    </tr>\n",
       "    <tr>\n",
       "      <th>Techie</th>\n",
       "      <td>No</td>\n",
       "      <td>Yes</td>\n",
       "      <td>Yes</td>\n",
       "      <td>Yes</td>\n",
       "      <td>No</td>\n",
       "    </tr>\n",
       "    <tr>\n",
       "      <th>Contract</th>\n",
       "      <td>One year</td>\n",
       "      <td>Month-to-month</td>\n",
       "      <td>Two Year</td>\n",
       "      <td>Two Year</td>\n",
       "      <td>Month-to-month</td>\n",
       "    </tr>\n",
       "    <tr>\n",
       "      <th>Port_modem</th>\n",
       "      <td>Yes</td>\n",
       "      <td>No</td>\n",
       "      <td>Yes</td>\n",
       "      <td>No</td>\n",
       "      <td>Yes</td>\n",
       "    </tr>\n",
       "    <tr>\n",
       "      <th>Tablet</th>\n",
       "      <td>Yes</td>\n",
       "      <td>Yes</td>\n",
       "      <td>No</td>\n",
       "      <td>No</td>\n",
       "      <td>No</td>\n",
       "    </tr>\n",
       "    <tr>\n",
       "      <th>InternetService</th>\n",
       "      <td>Fiber Optic</td>\n",
       "      <td>Fiber Optic</td>\n",
       "      <td>DSL</td>\n",
       "      <td>DSL</td>\n",
       "      <td>Fiber Optic</td>\n",
       "    </tr>\n",
       "    <tr>\n",
       "      <th>Phone</th>\n",
       "      <td>Yes</td>\n",
       "      <td>Yes</td>\n",
       "      <td>Yes</td>\n",
       "      <td>Yes</td>\n",
       "      <td>No</td>\n",
       "    </tr>\n",
       "    <tr>\n",
       "      <th>Multiple</th>\n",
       "      <td>No</td>\n",
       "      <td>Yes</td>\n",
       "      <td>Yes</td>\n",
       "      <td>No</td>\n",
       "      <td>No</td>\n",
       "    </tr>\n",
       "    <tr>\n",
       "      <th>OnlineSecurity</th>\n",
       "      <td>Yes</td>\n",
       "      <td>Yes</td>\n",
       "      <td>No</td>\n",
       "      <td>Yes</td>\n",
       "      <td>No</td>\n",
       "    </tr>\n",
       "    <tr>\n",
       "      <th>OnlineBackup</th>\n",
       "      <td>Yes</td>\n",
       "      <td>No</td>\n",
       "      <td>No</td>\n",
       "      <td>No</td>\n",
       "      <td>No</td>\n",
       "    </tr>\n",
       "    <tr>\n",
       "      <th>DeviceProtection</th>\n",
       "      <td>No</td>\n",
       "      <td>No</td>\n",
       "      <td>No</td>\n",
       "      <td>No</td>\n",
       "      <td>No</td>\n",
       "    </tr>\n",
       "    <tr>\n",
       "      <th>TechSupport</th>\n",
       "      <td>No</td>\n",
       "      <td>No</td>\n",
       "      <td>No</td>\n",
       "      <td>No</td>\n",
       "      <td>Yes</td>\n",
       "    </tr>\n",
       "    <tr>\n",
       "      <th>StreamingTV</th>\n",
       "      <td>No</td>\n",
       "      <td>Yes</td>\n",
       "      <td>No</td>\n",
       "      <td>Yes</td>\n",
       "      <td>Yes</td>\n",
       "    </tr>\n",
       "    <tr>\n",
       "      <th>StreamingMovies</th>\n",
       "      <td>Yes</td>\n",
       "      <td>Yes</td>\n",
       "      <td>Yes</td>\n",
       "      <td>No</td>\n",
       "      <td>No</td>\n",
       "    </tr>\n",
       "    <tr>\n",
       "      <th>PaperlessBilling</th>\n",
       "      <td>Yes</td>\n",
       "      <td>Yes</td>\n",
       "      <td>Yes</td>\n",
       "      <td>Yes</td>\n",
       "      <td>No</td>\n",
       "    </tr>\n",
       "    <tr>\n",
       "      <th>PaymentMethod</th>\n",
       "      <td>Credit Card (automatic)</td>\n",
       "      <td>Bank Transfer(automatic)</td>\n",
       "      <td>Credit Card (automatic)</td>\n",
       "      <td>Mailed Check</td>\n",
       "      <td>Mailed Check</td>\n",
       "    </tr>\n",
       "    <tr>\n",
       "      <th>Tenure</th>\n",
       "      <td>6.795513</td>\n",
       "      <td>1.156681</td>\n",
       "      <td>15.754144</td>\n",
       "      <td>17.087227</td>\n",
       "      <td>1.670972</td>\n",
       "    </tr>\n",
       "    <tr>\n",
       "      <th>MonthlyCharge</th>\n",
       "      <td>171.449762</td>\n",
       "      <td>242.948015</td>\n",
       "      <td>159.440398</td>\n",
       "      <td>120.249493</td>\n",
       "      <td>150.761216</td>\n",
       "    </tr>\n",
       "    <tr>\n",
       "      <th>Bandwidth_GB_Year</th>\n",
       "      <td>904.53611</td>\n",
       "      <td>800.982766</td>\n",
       "      <td>2054.706961</td>\n",
       "      <td>2164.579412</td>\n",
       "      <td>271.493436</td>\n",
       "    </tr>\n",
       "    <tr>\n",
       "      <th>item1</th>\n",
       "      <td>5</td>\n",
       "      <td>3</td>\n",
       "      <td>4</td>\n",
       "      <td>4</td>\n",
       "      <td>4</td>\n",
       "    </tr>\n",
       "    <tr>\n",
       "      <th>item2</th>\n",
       "      <td>5</td>\n",
       "      <td>4</td>\n",
       "      <td>4</td>\n",
       "      <td>4</td>\n",
       "      <td>4</td>\n",
       "    </tr>\n",
       "    <tr>\n",
       "      <th>item3</th>\n",
       "      <td>5</td>\n",
       "      <td>3</td>\n",
       "      <td>2</td>\n",
       "      <td>4</td>\n",
       "      <td>4</td>\n",
       "    </tr>\n",
       "    <tr>\n",
       "      <th>item4</th>\n",
       "      <td>3</td>\n",
       "      <td>3</td>\n",
       "      <td>4</td>\n",
       "      <td>2</td>\n",
       "      <td>3</td>\n",
       "    </tr>\n",
       "    <tr>\n",
       "      <th>item5</th>\n",
       "      <td>4</td>\n",
       "      <td>4</td>\n",
       "      <td>4</td>\n",
       "      <td>5</td>\n",
       "      <td>4</td>\n",
       "    </tr>\n",
       "    <tr>\n",
       "      <th>item6</th>\n",
       "      <td>4</td>\n",
       "      <td>3</td>\n",
       "      <td>3</td>\n",
       "      <td>4</td>\n",
       "      <td>4</td>\n",
       "    </tr>\n",
       "    <tr>\n",
       "      <th>item7</th>\n",
       "      <td>3</td>\n",
       "      <td>4</td>\n",
       "      <td>3</td>\n",
       "      <td>3</td>\n",
       "      <td>4</td>\n",
       "    </tr>\n",
       "    <tr>\n",
       "      <th>item8</th>\n",
       "      <td>4</td>\n",
       "      <td>4</td>\n",
       "      <td>3</td>\n",
       "      <td>3</td>\n",
       "      <td>5</td>\n",
       "    </tr>\n",
       "  </tbody>\n",
       "</table>\n",
       "</div>"
      ],
      "text/plain": [
       "                                                         1  \\\n",
       "CaseOrder                                                1   \n",
       "Customer_id                                        K409198   \n",
       "Interaction           aa90260b-4141-4a24-8e36-b04ce1f4f77b   \n",
       "City                                           Point Baker   \n",
       "State                                                   AK   \n",
       "County                               Prince of Wales-Hyder   \n",
       "Zip                                                  99927   \n",
       "Lat                                                 56.251   \n",
       "Lng                                             -133.37571   \n",
       "Population                                              38   \n",
       "Area                                                 Urban   \n",
       "Timezone                                     America/Sitka   \n",
       "Job                      Environmental health practitioner   \n",
       "Children                                               NaN   \n",
       "Age                                                   68.0   \n",
       "Education                                  Master's Degree   \n",
       "Employment                                       Part Time   \n",
       "Income                                            28561.99   \n",
       "Marital                                            Widowed   \n",
       "Gender                                                Male   \n",
       "Churn                                                   No   \n",
       "Outage_sec_perweek                                6.972566   \n",
       "Email                                                   10   \n",
       "Contacts                                                 0   \n",
       "Yearly_equip_failure                                     1   \n",
       "Techie                                                  No   \n",
       "Contract                                          One year   \n",
       "Port_modem                                             Yes   \n",
       "Tablet                                                 Yes   \n",
       "InternetService                                Fiber Optic   \n",
       "Phone                                                  Yes   \n",
       "Multiple                                                No   \n",
       "OnlineSecurity                                         Yes   \n",
       "OnlineBackup                                           Yes   \n",
       "DeviceProtection                                        No   \n",
       "TechSupport                                             No   \n",
       "StreamingTV                                             No   \n",
       "StreamingMovies                                        Yes   \n",
       "PaperlessBilling                                       Yes   \n",
       "PaymentMethod                      Credit Card (automatic)   \n",
       "Tenure                                            6.795513   \n",
       "MonthlyCharge                                   171.449762   \n",
       "Bandwidth_GB_Year                                904.53611   \n",
       "item1                                                    5   \n",
       "item2                                                    5   \n",
       "item3                                                    5   \n",
       "item4                                                    3   \n",
       "item5                                                    4   \n",
       "item6                                                    4   \n",
       "item7                                                    3   \n",
       "item8                                                    4   \n",
       "\n",
       "                                                         2  \\\n",
       "CaseOrder                                                2   \n",
       "Customer_id                                        S120509   \n",
       "Interaction           fb76459f-c047-4a9d-8af9-e0f7d4ac2524   \n",
       "City                                           West Branch   \n",
       "State                                                   MI   \n",
       "County                                              Ogemaw   \n",
       "Zip                                                  48661   \n",
       "Lat                                               44.32893   \n",
       "Lng                                               -84.2408   \n",
       "Population                                           10446   \n",
       "Area                                                 Urban   \n",
       "Timezone                                   America/Detroit   \n",
       "Job                                 Programmer, multimedia   \n",
       "Children                                               1.0   \n",
       "Age                                                   27.0   \n",
       "Education                      Regular High School Diploma   \n",
       "Employment                                         Retired   \n",
       "Income                                            21704.77   \n",
       "Marital                                            Married   \n",
       "Gender                                              Female   \n",
       "Churn                                                  Yes   \n",
       "Outage_sec_perweek                               12.014541   \n",
       "Email                                                   12   \n",
       "Contacts                                                 0   \n",
       "Yearly_equip_failure                                     1   \n",
       "Techie                                                 Yes   \n",
       "Contract                                    Month-to-month   \n",
       "Port_modem                                              No   \n",
       "Tablet                                                 Yes   \n",
       "InternetService                                Fiber Optic   \n",
       "Phone                                                  Yes   \n",
       "Multiple                                               Yes   \n",
       "OnlineSecurity                                         Yes   \n",
       "OnlineBackup                                            No   \n",
       "DeviceProtection                                        No   \n",
       "TechSupport                                             No   \n",
       "StreamingTV                                            Yes   \n",
       "StreamingMovies                                        Yes   \n",
       "PaperlessBilling                                       Yes   \n",
       "PaymentMethod                     Bank Transfer(automatic)   \n",
       "Tenure                                            1.156681   \n",
       "MonthlyCharge                                   242.948015   \n",
       "Bandwidth_GB_Year                               800.982766   \n",
       "item1                                                    3   \n",
       "item2                                                    4   \n",
       "item3                                                    3   \n",
       "item4                                                    3   \n",
       "item5                                                    4   \n",
       "item6                                                    3   \n",
       "item7                                                    4   \n",
       "item8                                                    4   \n",
       "\n",
       "                                                         3  \\\n",
       "CaseOrder                                                3   \n",
       "Customer_id                                        K191035   \n",
       "Interaction           344d114c-3736-4be5-98f7-c72c281e2d35   \n",
       "City                                               Yamhill   \n",
       "State                                                   OR   \n",
       "County                                             Yamhill   \n",
       "Zip                                                  97148   \n",
       "Lat                                               45.35589   \n",
       "Lng                                             -123.24657   \n",
       "Population                                            3735   \n",
       "Area                                                 Urban   \n",
       "Timezone                               America/Los_Angeles   \n",
       "Job                                Chief Financial Officer   \n",
       "Children                                               4.0   \n",
       "Age                                                   50.0   \n",
       "Education                      Regular High School Diploma   \n",
       "Employment                                         Student   \n",
       "Income                                                 NaN   \n",
       "Marital                                            Widowed   \n",
       "Gender                                              Female   \n",
       "Churn                                                   No   \n",
       "Outage_sec_perweek                               10.245616   \n",
       "Email                                                    9   \n",
       "Contacts                                                 0   \n",
       "Yearly_equip_failure                                     1   \n",
       "Techie                                                 Yes   \n",
       "Contract                                          Two Year   \n",
       "Port_modem                                             Yes   \n",
       "Tablet                                                  No   \n",
       "InternetService                                        DSL   \n",
       "Phone                                                  Yes   \n",
       "Multiple                                               Yes   \n",
       "OnlineSecurity                                          No   \n",
       "OnlineBackup                                            No   \n",
       "DeviceProtection                                        No   \n",
       "TechSupport                                             No   \n",
       "StreamingTV                                             No   \n",
       "StreamingMovies                                        Yes   \n",
       "PaperlessBilling                                       Yes   \n",
       "PaymentMethod                      Credit Card (automatic)   \n",
       "Tenure                                           15.754144   \n",
       "MonthlyCharge                                   159.440398   \n",
       "Bandwidth_GB_Year                              2054.706961   \n",
       "item1                                                    4   \n",
       "item2                                                    4   \n",
       "item3                                                    2   \n",
       "item4                                                    4   \n",
       "item5                                                    4   \n",
       "item6                                                    3   \n",
       "item7                                                    3   \n",
       "item8                                                    3   \n",
       "\n",
       "                                                         4  \\\n",
       "CaseOrder                                                4   \n",
       "Customer_id                                         D90850   \n",
       "Interaction           abfa2b40-2d43-4994-b15a-989b8c79e311   \n",
       "City                                               Del Mar   \n",
       "State                                                   CA   \n",
       "County                                           San Diego   \n",
       "Zip                                                  92014   \n",
       "Lat                                               32.96687   \n",
       "Lng                                             -117.24798   \n",
       "Population                                           13863   \n",
       "Area                                              Suburban   \n",
       "Timezone                               America/Los_Angeles   \n",
       "Job                                              Solicitor   \n",
       "Children                                               1.0   \n",
       "Age                                                   48.0   \n",
       "Education                                 Doctorate Degree   \n",
       "Employment                                         Retired   \n",
       "Income                                            18925.23   \n",
       "Marital                                            Married   \n",
       "Gender                                                Male   \n",
       "Churn                                                   No   \n",
       "Outage_sec_perweek                               15.206193   \n",
       "Email                                                   15   \n",
       "Contacts                                                 2   \n",
       "Yearly_equip_failure                                     0   \n",
       "Techie                                                 Yes   \n",
       "Contract                                          Two Year   \n",
       "Port_modem                                              No   \n",
       "Tablet                                                  No   \n",
       "InternetService                                        DSL   \n",
       "Phone                                                  Yes   \n",
       "Multiple                                                No   \n",
       "OnlineSecurity                                         Yes   \n",
       "OnlineBackup                                            No   \n",
       "DeviceProtection                                        No   \n",
       "TechSupport                                             No   \n",
       "StreamingTV                                            Yes   \n",
       "StreamingMovies                                         No   \n",
       "PaperlessBilling                                       Yes   \n",
       "PaymentMethod                                 Mailed Check   \n",
       "Tenure                                           17.087227   \n",
       "MonthlyCharge                                   120.249493   \n",
       "Bandwidth_GB_Year                              2164.579412   \n",
       "item1                                                    4   \n",
       "item2                                                    4   \n",
       "item3                                                    4   \n",
       "item4                                                    2   \n",
       "item5                                                    5   \n",
       "item6                                                    4   \n",
       "item7                                                    3   \n",
       "item8                                                    3   \n",
       "\n",
       "                                                         5  \n",
       "CaseOrder                                                5  \n",
       "Customer_id                                        K662701  \n",
       "Interaction           68a861fd-0d20-4e51-a587-8a90407ee574  \n",
       "City                                             Needville  \n",
       "State                                                   TX  \n",
       "County                                           Fort Bend  \n",
       "Zip                                                  77461  \n",
       "Lat                                               29.38012  \n",
       "Lng                                              -95.80673  \n",
       "Population                                           11352  \n",
       "Area                                              Suburban  \n",
       "Timezone                                   America/Chicago  \n",
       "Job                                    Medical illustrator  \n",
       "Children                                               0.0  \n",
       "Age                                                   83.0  \n",
       "Education                                  Master's Degree  \n",
       "Employment                                         Student  \n",
       "Income                                            40074.19  \n",
       "Marital                                          Separated  \n",
       "Gender                                                Male  \n",
       "Churn                                                  Yes  \n",
       "Outage_sec_perweek                                8.960316  \n",
       "Email                                                   16  \n",
       "Contacts                                                 2  \n",
       "Yearly_equip_failure                                     1  \n",
       "Techie                                                  No  \n",
       "Contract                                    Month-to-month  \n",
       "Port_modem                                             Yes  \n",
       "Tablet                                                  No  \n",
       "InternetService                                Fiber Optic  \n",
       "Phone                                                   No  \n",
       "Multiple                                                No  \n",
       "OnlineSecurity                                          No  \n",
       "OnlineBackup                                            No  \n",
       "DeviceProtection                                        No  \n",
       "TechSupport                                            Yes  \n",
       "StreamingTV                                            Yes  \n",
       "StreamingMovies                                         No  \n",
       "PaperlessBilling                                        No  \n",
       "PaymentMethod                                 Mailed Check  \n",
       "Tenure                                            1.670972  \n",
       "MonthlyCharge                                   150.761216  \n",
       "Bandwidth_GB_Year                               271.493436  \n",
       "item1                                                    4  \n",
       "item2                                                    4  \n",
       "item3                                                    4  \n",
       "item4                                                    3  \n",
       "item5                                                    4  \n",
       "item6                                                    4  \n",
       "item7                                                    4  \n",
       "item8                                                    5  "
      ]
     },
     "execution_count": 4,
     "metadata": {},
     "output_type": "execute_result"
    }
   ],
   "source": [
    "df.head().T"
   ]
  },
  {
   "cell_type": "code",
   "execution_count": 5,
   "id": "organized-disclosure",
   "metadata": {},
   "outputs": [
    {
     "data": {
      "text/plain": [
       "1         True\n",
       "2        False\n",
       "3        False\n",
       "4        False\n",
       "5        False\n",
       "         ...  \n",
       "9996     False\n",
       "9997     False\n",
       "9998      True\n",
       "9999     False\n",
       "10000    False\n",
       "Name: Children, Length: 10000, dtype: bool"
      ]
     },
     "execution_count": 5,
     "metadata": {},
     "output_type": "execute_result"
    }
   ],
   "source": [
    "df.Children.isna()"
   ]
  },
  {
   "cell_type": "code",
   "execution_count": 6,
   "id": "seventh-monte",
   "metadata": {},
   "outputs": [],
   "source": [
    "Children = df.Children.dropna()"
   ]
  },
  {
   "cell_type": "code",
   "execution_count": 7,
   "id": "hybrid-tobago",
   "metadata": {},
   "outputs": [
    {
     "data": {
      "text/plain": [
       "7505"
      ]
     },
     "execution_count": 7,
     "metadata": {},
     "output_type": "execute_result"
    }
   ],
   "source": [
    "len(Children)"
   ]
  },
  {
   "cell_type": "code",
   "execution_count": 8,
   "id": "comic-track",
   "metadata": {},
   "outputs": [
    {
     "data": {
      "text/plain": [
       "1.0"
      ]
     },
     "execution_count": 8,
     "metadata": {},
     "output_type": "execute_result"
    }
   ],
   "source": [
    "Children.median()"
   ]
  },
  {
   "cell_type": "code",
   "execution_count": 9,
   "id": "starting-bibliography",
   "metadata": {},
   "outputs": [
    {
     "data": {
      "text/plain": [
       "NaN     0.2495\n",
       "0.0     0.1919\n",
       "1.0     0.1874\n",
       "2.0     0.1100\n",
       "3.0     0.1096\n",
       "4.0     0.0769\n",
       "5.0     0.0161\n",
       "8.0     0.0158\n",
       "7.0     0.0149\n",
       "6.0     0.0135\n",
       "10.0    0.0074\n",
       "9.0     0.0070\n",
       "Name: Children, dtype: float64"
      ]
     },
     "execution_count": 9,
     "metadata": {},
     "output_type": "execute_result"
    }
   ],
   "source": [
    "df.Children.value_counts(normalize=True, dropna=False)"
   ]
  },
  {
   "cell_type": "code",
   "execution_count": 10,
   "id": "banner-string",
   "metadata": {},
   "outputs": [
    {
     "name": "stdout",
     "output_type": "stream",
     "text": [
      "Children    2.096\n",
      "dtype: float64 Children    2.092896\n",
      "dtype: float64\n"
     ]
    }
   ],
   "source": [
    "sample_mean_250 = pd.DataFrame({\n",
    "    'Children': [Children.sample(n=250).mean() for _ in range(1000)],\n",
    "    'type': 'mean of 250'\n",
    "})\n",
    "print(sample_mean_250.median(), sample_mean_250.mean())"
   ]
  },
  {
   "cell_type": "code",
   "execution_count": 11,
   "id": "generous-honor",
   "metadata": {},
   "outputs": [
    {
     "data": {
      "image/png": "[encoded data removed]",
      "text/plain": [
       "<Figure size 432x288 with 1 Axes>"
      ]
     },
     "metadata": {
      "needs_background": "light"
     },
     "output_type": "display_data"
    },
    {
     "data": {
      "text/plain": [
       "<Figure size 432x288 with 0 Axes>"
      ]
     },
     "metadata": {},
     "output_type": "display_data"
    }
   ],
   "source": [
    "plt.hist(x=sample_mean_250.Children)\n",
    "plt.show()\n",
    "plt.tight_layout()"
   ]
  },
  {
   "cell_type": "code",
   "execution_count": 12,
   "id": "treated-genesis",
   "metadata": {},
   "outputs": [
    {
     "name": "stdout",
     "output_type": "stream",
     "text": [
      "Children    2.1\n",
      "dtype: float64 Children    2.098551\n",
      "dtype: float64\n"
     ]
    }
   ],
   "source": [
    "sample_mean_350 = pd.DataFrame({\n",
    "    'Children': [Children.sample(n=350).mean() for _ in range(1000)],\n",
    "    'type': 'mean of 350'\n",
    "})\n",
    "\n",
    "print(sample_mean_350.median(), sample_mean_350.mean())"
   ]
  },
  {
   "cell_type": "code",
   "execution_count": 13,
   "id": "animated-cleaners",
   "metadata": {},
   "outputs": [
    {
     "data": {
      "image/png": "[encoded data removed]",
      "text/plain": [
       "<Figure size 432x288 with 1 Axes>"
      ]
     },
     "metadata": {
      "needs_background": "light"
     },
     "output_type": "display_data"
    },
    {
     "data": {
      "text/plain": [
       "<Figure size 432x288 with 0 Axes>"
      ]
     },
     "metadata": {},
     "output_type": "display_data"
    }
   ],
   "source": [
    "plt.hist(x=sample_mean_350.Children)\n",
    "plt.show()\n",
    "plt.tight_layout()"
   ]
  },
  {
   "cell_type": "code",
   "execution_count": 14,
   "id": "international-lincoln",
   "metadata": {},
   "outputs": [
    {
     "data": {
      "text/plain": [
       "Children    2.106\n",
       "dtype: float64"
      ]
     },
     "execution_count": 14,
     "metadata": {},
     "output_type": "execute_result"
    }
   ],
   "source": [
    "sample_mean_500 = pd.DataFrame({\n",
    "    'Children': [Children.sample(n=500).mean() for _ in range(1000)],\n",
    "    'type': 'mean of 500'\n",
    "})\n",
    "\n",
    "sample_mean_500.median()"
   ]
  },
  {
   "cell_type": "code",
   "execution_count": 15,
   "id": "stainless-trinidad",
   "metadata": {},
   "outputs": [
    {
     "data": {
      "image/png": "[encoded data removed]",
      "text/plain": [
       "<Figure size 432x288 with 1 Axes>"
      ]
     },
     "metadata": {
      "needs_background": "light"
     },
     "output_type": "display_data"
    },
    {
     "data": {
      "text/plain": [
       "<Figure size 432x288 with 0 Axes>"
      ]
     },
     "metadata": {},
     "output_type": "display_data"
    }
   ],
   "source": [
    "plt.hist(x=sample_mean_500.Children)\n",
    "plt.show()\n",
    "plt.tight_layout()"
   ]
  },
  {
   "cell_type": "code",
   "execution_count": 16,
   "id": "oriented-petite",
   "metadata": {},
   "outputs": [],
   "source": [
    "concat_df = pd.concat([sample_mean_250, sample_mean_350, sample_mean_500])"
   ]
  },
  {
   "cell_type": "code",
   "execution_count": 17,
   "id": "driven-polish",
   "metadata": {},
   "outputs": [
    {
     "data": {
      "image/png": "[encoded data removed]",
      "text/plain": [
       "<Figure size 432x288 with 1 Axes>"
      ]
     },
     "metadata": {
      "needs_background": "light"
     },
     "output_type": "display_data"
    },
    {
     "data": {
      "text/plain": [
       "<Figure size 432x288 with 0 Axes>"
      ]
     },
     "metadata": {},
     "output_type": "display_data"
    }
   ],
   "source": [
    "plt.hist(x=concat_df.Children)\n",
    "plt.show()\n",
    "plt.tight_layout()"
   ]
  },
  {
   "cell_type": "code",
   "execution_count": null,
   "id": "hybrid-diary",
   "metadata": {},
   "outputs": [],
   "source": []
  },
  {
   "cell_type": "code",
   "execution_count": 18,
   "id": "ceramic-variable",
   "metadata": {},
   "outputs": [
    {
     "data": {
      "text/plain": [
       "(2.095936042638241, 1.0)"
      ]
     },
     "execution_count": 18,
     "metadata": {},
     "output_type": "execute_result"
    }
   ],
   "source": [
    "df.Children.mean(), df.Children.median()"
   ]
  },
  {
   "cell_type": "markdown",
   "id": "respected-margin",
   "metadata": {},
   "source": [
    "# I will resample the columns (I am using the central theorem limit technique)"
   ]
  },
  {
   "cell_type": "code",
   "execution_count": 19,
   "id": "aquatic-literature",
   "metadata": {},
   "outputs": [],
   "source": [
    "results = []\n",
    "\n",
    "for nrepeat in range(1000):\n",
    "    sample = resample(Children)\n",
    "    results.append(sample.median())"
   ]
  },
  {
   "cell_type": "code",
   "execution_count": 29,
   "id": "worldwide-storm",
   "metadata": {},
   "outputs": [
    {
     "data": {
      "text/plain": [
       "1000"
      ]
     },
     "execution_count": 29,
     "metadata": {},
     "output_type": "execute_result"
    }
   ],
   "source": [
    "len(results)"
   ]
  },
  {
   "cell_type": "code",
   "execution_count": 31,
   "id": "sensitive-pointer",
   "metadata": {},
   "outputs": [
    {
     "data": {
      "text/plain": [
       "list"
      ]
     },
     "execution_count": 31,
     "metadata": {},
     "output_type": "execute_result"
    }
   ],
   "source": [
    "type(results)"
   ]
  },
  {
   "cell_type": "code",
   "execution_count": 34,
   "id": "sticky-purse",
   "metadata": {},
   "outputs": [
    {
     "data": {
      "text/plain": [
       "1.18"
      ]
     },
     "execution_count": 34,
     "metadata": {},
     "output_type": "execute_result"
    }
   ],
   "source": [
    "results = pd.Series(results)\n",
    "results.mean()"
   ]
  },
  {
   "cell_type": "code",
   "execution_count": 35,
   "id": "accepting-challenge",
   "metadata": {},
   "outputs": [
    {
     "data": {
      "text/plain": [
       "1.0"
      ]
     },
     "execution_count": 35,
     "metadata": {},
     "output_type": "execute_result"
    }
   ],
   "source": [
    "results.median()"
   ]
  },
  {
   "cell_type": "code",
   "execution_count": 39,
   "id": "unlimited-wrestling",
   "metadata": {},
   "outputs": [
    {
     "name": "stdout",
     "output_type": "stream",
     "text": [
      "2.095936042638241 1.0\n"
     ]
    }
   ],
   "source": [
    "print(Children.mean(), Children.median())"
   ]
  },
  {
   "cell_type": "code",
   "execution_count": 40,
   "id": "sufficient-practice",
   "metadata": {},
   "outputs": [
    {
     "data": {
      "text/plain": [
       "(array([1919., 1874., 1100., 1096.,  769.,  161.,  135.,  149.,  158.,\n",
       "         144.]),\n",
       " array([ 0.,  1.,  2.,  3.,  4.,  5.,  6.,  7.,  8.,  9., 10.]),\n",
       " <BarContainer object of 10 artists>)"
      ]
     },
     "execution_count": 40,
     "metadata": {},
     "output_type": "execute_result"
    },
    {
     "data": {
      "image/png": "[encoded data removed]",
      "text/plain": [
       "<Figure size 432x288 with 1 Axes>"
      ]
     },
     "metadata": {
      "needs_background": "light"
     },
     "output_type": "display_data"
    }
   ],
   "source": [
    "plt.hist(x=Children)"
   ]
  },
  {
   "cell_type": "code",
   "execution_count": 41,
   "id": "wired-interstate",
   "metadata": {},
   "outputs": [
    {
     "data": {
      "text/plain": [
       "(array([820.,   0.,   0.,   0.,   0.,   0.,   0.,   0.,   0., 180.]),\n",
       " array([1. , 1.1, 1.2, 1.3, 1.4, 1.5, 1.6, 1.7, 1.8, 1.9, 2. ]),\n",
       " <BarContainer object of 10 artists>)"
      ]
     },
     "execution_count": 41,
     "metadata": {},
     "output_type": "execute_result"
    },
    {
     "data": {
      "image/png": "[encoded data removed]",
      "text/plain": [
       "<Figure size 432x288 with 1 Axes>"
      ]
     },
     "metadata": {
      "needs_background": "light"
     },
     "output_type": "display_data"
    }
   ],
   "source": [
    "plt.hist(x=results)"
   ]
  },
  {
   "cell_type": "code",
   "execution_count": 21,
   "id": "liberal-serum",
   "metadata": {},
   "outputs": [
    {
     "data": {
      "text/plain": [
       "2475"
      ]
     },
     "execution_count": 21,
     "metadata": {},
     "output_type": "execute_result"
    }
   ],
   "source": [
    "df.Age.isna().sum()"
   ]
  },
  {
   "cell_type": "code",
   "execution_count": 22,
   "id": "dominant-edmonton",
   "metadata": {},
   "outputs": [
    {
     "data": {
      "text/plain": [
       "Female                  5025\n",
       "Male                    4744\n",
       "Prefer not to answer     231\n",
       "Name: Gender, dtype: int64"
      ]
     },
     "execution_count": 22,
     "metadata": {},
     "output_type": "execute_result"
    }
   ],
   "source": [
    "df.Gender.value_counts()"
   ]
  },
  {
   "cell_type": "code",
   "execution_count": 24,
   "id": "supported-satisfaction",
   "metadata": {
    "scrolled": true
   },
   "outputs": [
    {
     "data": {
      "text/plain": [
       "55"
      ]
     },
     "execution_count": 24,
     "metadata": {},
     "output_type": "execute_result"
    }
   ],
   "source": [
    "len(df.loc[(df['Gender'] == 'Prefer not to answer') &\n",
    "      df.Age.isnull()])"
   ]
  },
  {
   "cell_type": "code",
   "execution_count": 26,
   "id": "contemporary-yeast",
   "metadata": {},
   "outputs": [
    {
     "data": {
      "text/plain": [
       "1201"
      ]
     },
     "execution_count": 26,
     "metadata": {},
     "output_type": "execute_result"
    }
   ],
   "source": [
    "len(df.loc[(df['Gender'] == 'Male') &\n",
    "      df.Age.isnull()])"
   ]
  },
  {
   "cell_type": "code",
   "execution_count": 28,
   "id": "looking-vietnamese",
   "metadata": {},
   "outputs": [
    {
     "data": {
      "text/plain": [
       "1219"
      ]
     },
     "execution_count": 28,
     "metadata": {},
     "output_type": "execute_result"
    }
   ],
   "source": [
    "len(df.loc[(df['Gender'] == 'Female') &\n",
    "      df.Age.isnull()])"
   ]
  },
  {
   "cell_type": "code",
   "execution_count": 37,
   "id": "lovely-clark",
   "metadata": {},
   "outputs": [
    {
     "data": {
      "text/plain": [
       "1053"
      ]
     },
     "execution_count": 37,
     "metadata": {},
     "output_type": "execute_result"
    }
   ],
   "source": [
    "len(df.loc[(df['Age'] >= 40) &\n",
    "           (df['Age'] < 50)])"
   ]
  },
  {
   "cell_type": "code",
   "execution_count": 38,
   "id": "eleven-reverse",
   "metadata": {},
   "outputs": [
    {
     "data": {
      "text/plain": [
       "1033"
      ]
     },
     "execution_count": 38,
     "metadata": {},
     "output_type": "execute_result"
    }
   ],
   "source": [
    "len(df.loc[(df['Age'] >= 50) &\n",
    "           (df['Age'] < 60)])"
   ]
  },
  {
   "cell_type": "code",
   "execution_count": 39,
   "id": "breathing-evans",
   "metadata": {},
   "outputs": [
    {
     "data": {
      "text/plain": [
       "1043"
      ]
     },
     "execution_count": 39,
     "metadata": {},
     "output_type": "execute_result"
    }
   ],
   "source": [
    "len(df.loc[(df['Age'] >= 60) &\n",
    "           (df['Age'] < 70)])"
   ]
  },
  {
   "cell_type": "code",
   "execution_count": 40,
   "id": "elegant-library",
   "metadata": {},
   "outputs": [
    {
     "data": {
      "text/plain": [
       "1977"
      ]
     },
     "execution_count": 40,
     "metadata": {},
     "output_type": "execute_result"
    }
   ],
   "source": [
    "len(df.loc[(df['Age'] >= 70) &\n",
    "           (df['Age'] < 89)])"
   ]
  },
  {
   "cell_type": "code",
   "execution_count": 47,
   "id": "documentary-network",
   "metadata": {},
   "outputs": [
    {
     "data": {
      "text/plain": [
       "CaseOrder                3100.133132\n",
       "Zip                     49882.963691\n",
       "Lat                        38.813403\n",
       "Lng                       -90.688813\n",
       "Population               9284.071104\n",
       "Children                    2.008230\n",
       "Age                              NaN\n",
       "Income                  40775.684940\n",
       "Outage_sec_perweek         11.473141\n",
       "Email                      12.031770\n",
       "Contacts                    0.971256\n",
       "Yearly_equip_failure        0.366112\n",
       "Tenure                     13.829832\n",
       "MonthlyCharge             200.855501\n",
       "Bandwidth_GB_Year        1835.335863\n",
       "item1                       3.443268\n",
       "item2                       3.464448\n",
       "item3                       3.419062\n",
       "item4                       3.479576\n",
       "item5                       3.481089\n",
       "item6                       3.511346\n",
       "item7                       3.503782\n",
       "item8                       3.568835\n",
       "dtype: float64"
      ]
     },
     "execution_count": 47,
     "metadata": {},
     "output_type": "execute_result"
    }
   ],
   "source": [
    "df.loc[(df.Age.isnull()) &\n",
    "      (df.Churn == 'Yes')].mean()"
   ]
  },
  {
   "cell_type": "code",
   "execution_count": 49,
   "id": "southwest-germany",
   "metadata": {},
   "outputs": [
    {
     "data": {
      "text/plain": [
       "CaseOrder                5719.432194\n",
       "Zip                     49037.740353\n",
       "Lat                        38.661945\n",
       "Lng                       -90.664103\n",
       "Population               9627.342889\n",
       "Children                    2.133627\n",
       "Age                              NaN\n",
       "Income                  39378.130773\n",
       "Outage_sec_perweek         11.501582\n",
       "Email                      11.952040\n",
       "Contacts                    0.948732\n",
       "Yearly_equip_failure        0.412348\n",
       "Tenure                     42.739874\n",
       "MonthlyCharge             163.829761\n",
       "Bandwidth_GB_Year        4022.337419\n",
       "item1                       3.499449\n",
       "item2                       3.533076\n",
       "item3                       3.505513\n",
       "item4                       3.512128\n",
       "item5                       3.485667\n",
       "item6                       3.502205\n",
       "item7                       3.531422\n",
       "item8                       3.511025\n",
       "dtype: float64"
      ]
     },
     "execution_count": 49,
     "metadata": {},
     "output_type": "execute_result"
    }
   ],
   "source": [
    "df.loc[(df.Age.isnull()) &\n",
    "      (df.Churn == 'No')].mean()"
   ]
  },
  {
   "cell_type": "code",
   "execution_count": 50,
   "id": "intelligent-bryan",
   "metadata": {},
   "outputs": [
    {
     "data": {
      "text/plain": [
       "CaseOrder                3010.229261\n",
       "Zip                     49411.683258\n",
       "Lat                        38.852254\n",
       "Lng                       -90.968457\n",
       "Population               9640.322775\n",
       "Children                    2.140761\n",
       "Age                        53.521368\n",
       "Income                  40642.061560\n",
       "Outage_sec_perweek         11.246508\n",
       "Email                      12.093514\n",
       "Contacts                    1.020613\n",
       "Yearly_equip_failure        0.386124\n",
       "Tenure                     13.016036\n",
       "MonthlyCharge             200.511866\n",
       "Bandwidth_GB_Year        1766.687013\n",
       "item1                       3.489693\n",
       "item2                       3.488185\n",
       "item3                       3.484163\n",
       "item4                       3.495726\n",
       "item5                       3.465058\n",
       "item6                       3.495224\n",
       "item7                       3.491202\n",
       "item8                       3.484163\n",
       "dtype: float64"
      ]
     },
     "execution_count": 50,
     "metadata": {},
     "output_type": "execute_result"
    }
   ],
   "source": [
    "df.loc[(df.Age.notnull()) &\n",
    "      (df.Churn == 'Yes')].mean()"
   ]
  },
  {
   "cell_type": "code",
   "execution_count": 51,
   "id": "nuclear-rolling",
   "metadata": {},
   "outputs": [
    {
     "data": {
      "text/plain": [
       "CaseOrder                5706.903179\n",
       "Zip                     49011.246026\n",
       "Lat                        38.748213\n",
       "Lng                       -90.765735\n",
       "Population               9897.082912\n",
       "Children                    2.077682\n",
       "Age                        53.187500\n",
       "Income                  39770.486395\n",
       "Outage_sec_perweek         11.508785\n",
       "Email                      12.007225\n",
       "Contacts                    1.002348\n",
       "Yearly_equip_failure        0.401373\n",
       "Tenure                     42.082078\n",
       "MonthlyCharge             164.738489\n",
       "Bandwidth_GB_Year        3962.222951\n",
       "item1                       3.494039\n",
       "item2                       3.506864\n",
       "item3                       3.490065\n",
       "item4                       3.495484\n",
       "item5                       3.506684\n",
       "item6                       3.494762\n",
       "item7                       3.509574\n",
       "item8                       3.485910\n",
       "dtype: float64"
      ]
     },
     "execution_count": 51,
     "metadata": {},
     "output_type": "execute_result"
    }
   ],
   "source": [
    "df.loc[(df.Age.notnull()) &\n",
    "      (df.Churn == 'No')].mean()"
   ]
  },
  {
   "cell_type": "code",
   "execution_count": 58,
   "id": "accepted-springfield",
   "metadata": {},
   "outputs": [],
   "source": [
    "def tenure_rel_age(key1,key2):\n",
    "    return df.loc[(df['Age'] >= key1) &\n",
    "          (df['Age'] < key2)]['Tenure'].mean()"
   ]
  },
  {
   "cell_type": "code",
   "execution_count": 62,
   "id": "spatial-junction",
   "metadata": {},
   "outputs": [
    {
     "data": {
      "text/plain": [
       "33.38226813732975"
      ]
     },
     "execution_count": 62,
     "metadata": {},
     "output_type": "execute_result"
    }
   ],
   "source": [
    "tenure_rel_age(50,60)"
   ]
  },
  {
   "cell_type": "code",
   "execution_count": 144,
   "id": "adjustable-april",
   "metadata": {},
   "outputs": [
    {
     "data": {
      "text/plain": [
       "<AxesSubplot:xlabel='Bandwidth_GB_Year', ylabel='MonthlyCharge'>"
      ]
     },
     "execution_count": 144,
     "metadata": {},
     "output_type": "execute_result"
    },
    {
     "data": {
      "image/png": "[encoded data removed]",
      "text/plain": [
       "<Figure size 720x720 with 1 Axes>"
      ]
     },
     "metadata": {
      "needs_background": "light"
     },
     "output_type": "display_data"
    }
   ],
   "source": [
    "fig, ax = plt.subplots(figsize=(10,10))\n",
    "sns.scatterplot(data=df, y=df['MonthlyCharge'][:200], x=df['Bandwidth_GB_Year'][:200],\n",
    "               ax=ax)"
   ]
  },
  {
   "cell_type": "code",
   "execution_count": 103,
   "id": "fiscal-warning",
   "metadata": {},
   "outputs": [],
   "source": [
    "for key, values in df.items():\n",
    "    if pd.api.types.is_numeric_dtype(values):\n",
    "        if pd.isnull(values).sum():\n",
    "            if key == 'Age':\n",
    "                # adding a binary column T/F\n",
    "                df[key + 'Is_missing'] = pd.isnull(values)\n",
    "                # adding Na values with the median since it is more robust\n",
    "                df[key] = values.fillna(values.median())"
   ]
  },
  {
   "cell_type": "code",
   "execution_count": 105,
   "id": "apart-might",
   "metadata": {
    "scrolled": true
   },
   "outputs": [
    {
     "data": {
      "text/plain": [
       "1        68.0\n",
       "2        27.0\n",
       "3        50.0\n",
       "4        48.0\n",
       "5        83.0\n",
       "         ... \n",
       "9996     53.0\n",
       "9997     48.0\n",
       "9998     53.0\n",
       "9999     39.0\n",
       "10000    28.0\n",
       "Name: Age, Length: 10000, dtype: float64"
      ]
     },
     "execution_count": 105,
     "metadata": {},
     "output_type": "execute_result"
    }
   ],
   "source": [
    "df.Age"
   ]
  },
  {
   "cell_type": "code",
   "execution_count": 93,
   "id": "antique-berkeley",
   "metadata": {},
   "outputs": [
    {
     "data": {
      "text/plain": [
       "CaseOrder                  0\n",
       "Customer_id                0\n",
       "Interaction                0\n",
       "City                       0\n",
       "State                      0\n",
       "County                     0\n",
       "Zip                        0\n",
       "Lat                        0\n",
       "Lng                        0\n",
       "Population                 0\n",
       "Area                       0\n",
       "Timezone                   0\n",
       "Job                        0\n",
       "Children                2495\n",
       "Age                        0\n",
       "Education                  0\n",
       "Employment                 0\n",
       "Income                  2490\n",
       "Marital                    0\n",
       "Gender                     0\n",
       "Churn                      0\n",
       "Outage_sec_perweek         0\n",
       "Email                      0\n",
       "Contacts                   0\n",
       "Yearly_equip_failure       0\n",
       "Techie                  2477\n",
       "Contract                   0\n",
       "Port_modem                 0\n",
       "Tablet                     0\n",
       "InternetService            0\n",
       "Phone                   1026\n",
       "Multiple                   0\n",
       "OnlineSecurity             0\n",
       "OnlineBackup               0\n",
       "DeviceProtection           0\n",
       "TechSupport              991\n",
       "StreamingTV                0\n",
       "StreamingMovies            0\n",
       "PaperlessBilling           0\n",
       "PaymentMethod              0\n",
       "Tenure                   931\n",
       "MonthlyCharge              0\n",
       "Bandwidth_GB_Year       1021\n",
       "item1                      0\n",
       "item2                      0\n",
       "item3                      0\n",
       "item4                      0\n",
       "item5                      0\n",
       "item6                      0\n",
       "item7                      0\n",
       "item8                      0\n",
       "AgeIs_missing              0\n",
       "dtype: int64"
      ]
     },
     "execution_count": 93,
     "metadata": {},
     "output_type": "execute_result"
    }
   ],
   "source": [
    "df.isna().sum()"
   ]
  },
  {
   "cell_type": "code",
   "execution_count": 82,
   "id": "promotional-norway",
   "metadata": {},
   "outputs": [
    {
     "data": {
      "text/plain": [
       "nan"
      ]
     },
     "execution_count": 82,
     "metadata": {},
     "output_type": "execute_result"
    }
   ],
   "source": [
    "trim_mean(df['Age'], 0.1)"
   ]
  },
  {
   "cell_type": "code",
   "execution_count": 83,
   "id": "rental-brighton",
   "metadata": {},
   "outputs": [],
   "source": [
    "Age = df.Age"
   ]
  },
  {
   "cell_type": "code",
   "execution_count": 85,
   "id": "normal-cooling",
   "metadata": {},
   "outputs": [],
   "source": [
    "Age.dropna(inplace=True)"
   ]
  },
  {
   "cell_type": "code",
   "execution_count": 89,
   "id": "democratic-mexican",
   "metadata": {},
   "outputs": [
    {
     "data": {
      "text/plain": [
       "53.27043189368771"
      ]
     },
     "execution_count": 89,
     "metadata": {},
     "output_type": "execute_result"
    }
   ],
   "source": [
    "trim_mean(Age, 0.20)"
   ]
  },
  {
   "cell_type": "code",
   "execution_count": 94,
   "id": "broken-digit",
   "metadata": {},
   "outputs": [
    {
     "data": {
      "text/plain": [
       "(array([1031., 2062., 1087.,  255.,   98.,  370.,  844., 1399., 1484.,\n",
       "         349.]),\n",
       " array([ 155.5067148 ,  855.85424332, 1556.20177184, 2256.54930036,\n",
       "        2956.89682888, 3657.2443574 , 4357.59188592, 5057.93941444,\n",
       "        5758.28694296, 6458.63447148, 7158.982     ]),\n",
       " <BarContainer object of 10 artists>)"
      ]
     },
     "execution_count": 94,
     "metadata": {},
     "output_type": "execute_result"
    },
    {
     "data": {
      "image/png": "[encoded data removed]",
      "text/plain": [
       "<Figure size 432x288 with 1 Axes>"
      ]
     },
     "metadata": {
      "needs_background": "light"
     },
     "output_type": "display_data"
    }
   ],
   "source": [
    "plt.hist(df.Bandwidth_GB_Year)"
   ]
  },
  {
   "cell_type": "code",
   "execution_count": 128,
   "id": "prime-think",
   "metadata": {},
   "outputs": [],
   "source": [
    "band = df.loc[(df.Bandwidth_GB_Year > 4000) &\n",
    "      (df.Bandwidth_GB_Year <= 7000)][['Age', 'Children', 'Bandwidth_GB_Year',\n",
    "                                      'Techie', 'Phone']]"
   ]
  },
  {
   "cell_type": "code",
   "execution_count": 129,
   "id": "proved-jefferson",
   "metadata": {},
   "outputs": [
    {
     "data": {
      "text/plain": [
       "53.0"
      ]
     },
     "execution_count": 129,
     "metadata": {},
     "output_type": "execute_result"
    }
   ],
   "source": [
    "band.Age.median()"
   ]
  },
  {
   "cell_type": "code",
   "execution_count": 130,
   "id": "specialized-iraqi",
   "metadata": {},
   "outputs": [
    {
     "data": {
      "text/plain": [
       "Age                    24.600000\n",
       "Children                2.253049\n",
       "Bandwidth_GB_Year    5618.876738\n",
       "dtype: float64"
      ]
     },
     "execution_count": 130,
     "metadata": {},
     "output_type": "execute_result"
    }
   ],
   "source": [
    "band.loc[(band['Age'] >=  20) & \n",
    "         (band['Age'] < 30)].mean()"
   ]
  },
  {
   "cell_type": "code",
   "execution_count": 131,
   "id": "color-valley",
   "metadata": {},
   "outputs": [
    {
     "data": {
      "text/plain": [
       "Age                    34.485523\n",
       "Children                2.194118\n",
       "Bandwidth_GB_Year    5552.523788\n",
       "dtype: float64"
      ]
     },
     "execution_count": 131,
     "metadata": {},
     "output_type": "execute_result"
    }
   ],
   "source": [
    "band.loc[(band['Age'] >=  30) & \n",
    "         (band['Age'] < 40)].mean()"
   ]
  },
  {
   "cell_type": "code",
   "execution_count": 132,
   "id": "continuous-swiss",
   "metadata": {},
   "outputs": [
    {
     "data": {
      "text/plain": [
       "Age                    44.449339\n",
       "Children                2.138418\n",
       "Bandwidth_GB_Year    5592.025436\n",
       "dtype: float64"
      ]
     },
     "execution_count": 132,
     "metadata": {},
     "output_type": "execute_result"
    }
   ],
   "source": [
    "band.loc[(band['Age'] >=  40) & \n",
    "         (band['Age'] < 50)].mean()"
   ]
  },
  {
   "cell_type": "code",
   "execution_count": 133,
   "id": "finnish-dressing",
   "metadata": {},
   "outputs": [
    {
     "data": {
      "text/plain": [
       "Age                    53.373850\n",
       "Children                2.066313\n",
       "Bandwidth_GB_Year    5538.711131\n",
       "dtype: float64"
      ]
     },
     "execution_count": 133,
     "metadata": {},
     "output_type": "execute_result"
    }
   ],
   "source": [
    "band.loc[(band['Age'] >=  50) & \n",
    "         (band['Age'] < 60)].mean()"
   ]
  },
  {
   "cell_type": "code",
   "execution_count": 147,
   "id": "existing-communist",
   "metadata": {},
   "outputs": [],
   "source": [
    "sample_of_band = pd.DataFrame({\n",
    "    'Bandwidth': [df.Bandwidth_GB_Year.sample(frac=.5).mean() for _ in range(1000)],\n",
    "    'type': \"frac5\"\n",
    "})"
   ]
  },
  {
   "cell_type": "code",
   "execution_count": 151,
   "id": "secure-session",
   "metadata": {},
   "outputs": [
    {
     "data": {
      "text/plain": [
       "Bandwidth    3399.029431\n",
       "dtype: float64"
      ]
     },
     "execution_count": 151,
     "metadata": {},
     "output_type": "execute_result"
    }
   ],
   "source": [
    "sample_of_band.median()"
   ]
  },
  {
   "cell_type": "code",
   "execution_count": 149,
   "id": "developmental-offset",
   "metadata": {},
   "outputs": [
    {
     "data": {
      "text/plain": [
       "(array([  6.,  24.,  73., 139., 230., 212., 186.,  87.,  36.,   7.]),\n",
       " array([3327.54370795, 3341.39221495, 3355.24072195, 3369.08922895,\n",
       "        3382.93773595, 3396.78624295, 3410.63474995, 3424.48325695,\n",
       "        3438.33176395, 3452.18027095, 3466.02877795]),\n",
       " <BarContainer object of 10 artists>)"
      ]
     },
     "execution_count": 149,
     "metadata": {},
     "output_type": "execute_result"
    },
    {
     "data": {
      "image/png": "[encoded data removed]",
      "text/plain": [
       "<Figure size 432x288 with 1 Axes>"
      ]
     },
     "metadata": {
      "needs_background": "light"
     },
     "output_type": "display_data"
    }
   ],
   "source": [
    "plt.hist(sample_of_band.Bandwidth)"
   ]
  },
  {
   "cell_type": "code",
   "execution_count": null,
   "id": "opening-therapist",
   "metadata": {},
   "outputs": [],
   "source": [
    "#  for key, values in df.items():\n",
    "#     if pd.api.types.is_numeric_dtype(values):\n",
    "#         if pd.isnull(values).sum():\n",
    "#             if key == 'Age':\n",
    "#                 # adding a binary column T/F\n",
    "#                 df[key + 'Is_missing'] = pd.isnull(values)\n",
    "#                 # adding Na values with the median since it is more robust\n",
    "#                 df[key] = values.fillna(values.median())"
   ]
  },
  {
   "cell_type": "code",
   "execution_count": 155,
   "id": "arranged-mortgage",
   "metadata": {},
   "outputs": [],
   "source": [
    "for key, values in df.items():\n",
    "    if pd.api.types.is_numeric_dtype(values):\n",
    "        if pd.isnull(values).sum():\n",
    "            if key == 'Bandwidth_GB_Year':\n",
    "                # adding binary column\n",
    "                df[key+'Is_missing'] = pd.isnull(values)\n",
    "                #filling na values with band findings\n",
    "                df[key] = values.fillna(value=3399.029431)"
   ]
  },
  {
   "cell_type": "code",
   "execution_count": 167,
   "id": "patient-smart",
   "metadata": {},
   "outputs": [
    {
     "data": {
      "text/plain": [
       "(array([ 704., 1828., 1246.,  531.,  140., 1105.,  292.,  565.,  971.,\n",
       "        1368., 1043.,  207.]),\n",
       " array([ 155.5067148 ,  739.12965523, 1322.75259567, 1906.3755361 ,\n",
       "        2489.99847653, 3073.62141697, 3657.2443574 , 4240.86729783,\n",
       "        4824.49023827, 5408.1131787 , 5991.73611913, 6575.35905957,\n",
       "        7158.982     ]),\n",
       " <BarContainer object of 12 artists>)"
      ]
     },
     "execution_count": 167,
     "metadata": {},
     "output_type": "execute_result"
    },
    {
     "data": {
      "image/png": "[encoded data removed]",
      "text/plain": [
       "<Figure size 432x288 with 1 Axes>"
      ]
     },
     "metadata": {
      "needs_background": "light"
     },
     "output_type": "display_data"
    }
   ],
   "source": [
    "plt.hist(df.Bandwidth_GB_Year, bins=12)"
   ]
  },
  {
   "cell_type": "code",
   "execution_count": 169,
   "id": "powered-keyboard",
   "metadata": {},
   "outputs": [
    {
     "data": {
      "text/plain": [
       "931"
      ]
     },
     "execution_count": 169,
     "metadata": {},
     "output_type": "execute_result"
    }
   ],
   "source": [
    "df.Tenure.isna().sum()"
   ]
  },
  {
   "cell_type": "code",
   "execution_count": 172,
   "id": "piano-storm",
   "metadata": {},
   "outputs": [
    {
     "data": {
      "text/plain": [
       "False    0.8979\n",
       "True     0.1021\n",
       "Name: Bandwidth_GB_YearIs_missing, dtype: float64"
      ]
     },
     "execution_count": 172,
     "metadata": {},
     "output_type": "execute_result"
    }
   ],
   "source": [
    "df.Bandwidth_GB_YearIs_missing.value_counts(normalize=True)"
   ]
  },
  {
   "cell_type": "code",
   "execution_count": 178,
   "id": "reported-province",
   "metadata": {},
   "outputs": [],
   "source": [
    "for key, values in df.items():\n",
    "    if pd.api.types.is_numeric_dtype:\n",
    "        if pd.isnull(values).sum():\n",
    "            if key == 'Tenure':\n",
    "                df[key+'_is_missing'] = pd.isnull(values)"
   ]
  },
  {
   "cell_type": "code",
   "execution_count": 180,
   "id": "immediate-california",
   "metadata": {},
   "outputs": [
    {
     "name": "stderr",
     "output_type": "stream",
     "text": [
      "/Users/cristophernimatuj/Desktop/Master_folder/jupyter/Jupyter_notebook/env/lib/python3.8/site-packages/pandas/core/indexing.py:1637: SettingWithCopyWarning: \n",
      "A value is trying to be set on a copy of a slice from a DataFrame\n",
      "\n",
      "See the caveats in the documentation: https://pandas.pydata.org/pandas-docs/stable/user_guide/indexing.html#returning-a-view-versus-a-copy\n",
      "  self._setitem_single_block(indexer, value, name)\n",
      "/Users/cristophernimatuj/Desktop/Master_folder/jupyter/Jupyter_notebook/env/lib/python3.8/site-packages/pandas/core/indexing.py:1637: SettingWithCopyWarning: \n",
      "A value is trying to be set on a copy of a slice from a DataFrame\n",
      "\n",
      "See the caveats in the documentation: https://pandas.pydata.org/pandas-docs/stable/user_guide/indexing.html#returning-a-view-versus-a-copy\n",
      "  self._setitem_single_block(indexer, value, name)\n",
      "/Users/cristophernimatuj/Desktop/Master_folder/jupyter/Jupyter_notebook/env/lib/python3.8/site-packages/pandas/core/indexing.py:1637: SettingWithCopyWarning: \n",
      "A value is trying to be set on a copy of a slice from a DataFrame\n",
      "\n",
      "See the caveats in the documentation: https://pandas.pydata.org/pandas-docs/stable/user_guide/indexing.html#returning-a-view-versus-a-copy\n",
      "  self._setitem_single_block(indexer, value, name)\n",
      "/Users/cristophernimatuj/Desktop/Master_folder/jupyter/Jupyter_notebook/env/lib/python3.8/site-packages/pandas/core/indexing.py:1637: SettingWithCopyWarning: \n",
      "A value is trying to be set on a copy of a slice from a DataFrame\n",
      "\n",
      "See the caveats in the documentation: https://pandas.pydata.org/pandas-docs/stable/user_guide/indexing.html#returning-a-view-versus-a-copy\n",
      "  self._setitem_single_block(indexer, value, name)\n",
      "/Users/cristophernimatuj/Desktop/Master_folder/jupyter/Jupyter_notebook/env/lib/python3.8/site-packages/pandas/core/indexing.py:1637: SettingWithCopyWarning: \n",
      "A value is trying to be set on a copy of a slice from a DataFrame\n",
      "\n",
      "See the caveats in the documentation: https://pandas.pydata.org/pandas-docs/stable/user_guide/indexing.html#returning-a-view-versus-a-copy\n",
      "  self._setitem_single_block(indexer, value, name)\n",
      "/Users/cristophernimatuj/Desktop/Master_folder/jupyter/Jupyter_notebook/env/lib/python3.8/site-packages/pandas/core/indexing.py:1637: SettingWithCopyWarning: \n",
      "A value is trying to be set on a copy of a slice from a DataFrame\n",
      "\n",
      "See the caveats in the documentation: https://pandas.pydata.org/pandas-docs/stable/user_guide/indexing.html#returning-a-view-versus-a-copy\n",
      "  self._setitem_single_block(indexer, value, name)\n",
      "/Users/cristophernimatuj/Desktop/Master_folder/jupyter/Jupyter_notebook/env/lib/python3.8/site-packages/pandas/core/indexing.py:1637: SettingWithCopyWarning: \n",
      "A value is trying to be set on a copy of a slice from a DataFrame\n",
      "\n",
      "See the caveats in the documentation: https://pandas.pydata.org/pandas-docs/stable/user_guide/indexing.html#returning-a-view-versus-a-copy\n",
      "  self._setitem_single_block(indexer, value, name)\n"
     ]
    }
   ],
   "source": [
    "df['Tenure'].loc[df['Tenure'].isnull() &\n",
    "      (df.Age < 30)] = 25.172522\n",
    "\n",
    "df[\"Tenure\"].loc[df['Tenure'].isnull() &\n",
    "      (df.Age >= 30) &\n",
    "       (df.Age < 40)] = 38.23\n",
    "\n",
    "df[\"Tenure\"].loc[df['Tenure'].isnull() &\n",
    "      (df.Age >= 40) &\n",
    "       (df.Age < 50)] = 28.23\n",
    "\n",
    "df[\"Tenure\"].loc[df['Tenure'].isnull() &\n",
    "      (df.Age >= 50) &\n",
    "       (df.Age < 60)] = 37.78\n",
    "\n",
    "df[\"Tenure\"].loc[df['Tenure'].isnull() &\n",
    "      (df.Age >= 60) &\n",
    "       (df.Age < 70)] = 40.96\n",
    "\n",
    "df[\"Tenure\"].loc[df['Tenure'].isnull() &\n",
    "      (df.Age >= 70) &\n",
    "       (df.Age < 80)] = 30.18\n",
    "\n",
    "df[\"Tenure\"].loc[df['Tenure'].isnull() &\n",
    "      (df.Age >= 80) &\n",
    "       (df.Age < 90)] = 36.44 "
   ]
  },
  {
   "cell_type": "code",
   "execution_count": 181,
   "id": "smaller-enlargement",
   "metadata": {},
   "outputs": [
    {
     "data": {
      "text/plain": [
       "CaseOrder                         0\n",
       "Customer_id                       0\n",
       "Interaction                       0\n",
       "City                              0\n",
       "State                             0\n",
       "County                            0\n",
       "Zip                               0\n",
       "Lat                               0\n",
       "Lng                               0\n",
       "Population                        0\n",
       "Area                              0\n",
       "Timezone                          0\n",
       "Job                               0\n",
       "Children                       2495\n",
       "Age                               0\n",
       "Education                         0\n",
       "Employment                        0\n",
       "Income                         2490\n",
       "Marital                           0\n",
       "Gender                            0\n",
       "Churn                             0\n",
       "Outage_sec_perweek                0\n",
       "Email                             0\n",
       "Contacts                          0\n",
       "Yearly_equip_failure              0\n",
       "Techie                         2477\n",
       "Contract                          0\n",
       "Port_modem                        0\n",
       "Tablet                            0\n",
       "InternetService                   0\n",
       "Phone                          1026\n",
       "Multiple                          0\n",
       "OnlineSecurity                    0\n",
       "OnlineBackup                      0\n",
       "DeviceProtection                  0\n",
       "TechSupport                     991\n",
       "StreamingTV                       0\n",
       "StreamingMovies                   0\n",
       "PaperlessBilling                  0\n",
       "PaymentMethod                     0\n",
       "Tenure                            0\n",
       "MonthlyCharge                     0\n",
       "Bandwidth_GB_Year                 0\n",
       "item1                             0\n",
       "item2                             0\n",
       "item3                             0\n",
       "item4                             0\n",
       "item5                             0\n",
       "item6                             0\n",
       "item7                             0\n",
       "item8                             0\n",
       "AgeIs_missing                     0\n",
       "Bandwidth_GB_YearIs_missing       0\n",
       "Tenure_is_missing                 0\n",
       "dtype: int64"
      ]
     },
     "execution_count": 181,
     "metadata": {},
     "output_type": "execute_result"
    }
   ],
   "source": [
    "df.isna().sum()"
   ]
  },
  {
   "cell_type": "code",
   "execution_count": null,
   "id": "brown-fight",
   "metadata": {},
   "outputs": [],
   "source": []
  }
 ],
 "metadata": {
  "kernelspec": {
   "display_name": "Python 3",
   "language": "python",
   "name": "python3"
  },
  "language_info": {
   "codemirror_mode": {
    "name": "ipython",
    "version": 3
   },
   "file_extension": ".py",
   "mimetype": "text/x-python",
   "name": "python",
   "nbconvert_exporter": "python",
   "pygments_lexer": "ipython3",
   "version": "3.8.8"
  }
 },
 "nbformat": 4,
 "nbformat_minor": 5
}
